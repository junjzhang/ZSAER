{
 "cells": [
  {
   "cell_type": "code",
   "execution_count": 1,
   "metadata": {},
   "outputs": [],
   "source": [
    "import pandas as pd\n",
    "import torch\n",
    "\n",
    "from sentence_transformers import SentenceTransformer\n",
    "from sentence_transformers import models\n",
    "from tqdm import tqdm"
   ]
  },
  {
   "cell_type": "code",
   "execution_count": 2,
   "metadata": {},
   "outputs": [],
   "source": [
    "model_path = 'tune_results/sentence-transformers'\n",
    "word_embedding_model = models.Transformer(model_path, max_seq_length=64)\n",
    "pooling_model = models.Pooling(\n",
    "    word_embedding_model.get_word_embedding_dimension())\n",
    "model = SentenceTransformer(modules=[word_embedding_model, pooling_model])\n",
    "model._modules[\"1\"].pooling_mode_mean_tokens = False\n",
    "model._modules[\"1\"].pooling_mode_cls_token = True"
   ]
  },
  {
   "cell_type": "code",
   "execution_count": 3,
   "metadata": {},
   "outputs": [],
   "source": [
    "train_df = pd.read_pickle('data/train.pkl')\n",
    "val_df = pd.read_csv('data/multi_choice/val.csv')\n",
    "test_df = pd.read_csv('data/multi_choice/test.csv')\n",
    "\n",
    "train_df = train_df.loc[:, ['action', 'object', 'effect_sentence_list']]\n",
    "train_df = train_df.explode('effect_sentence_list', ignore_index=True)\n",
    "train_df.rename(columns={'effect_sentence_list': 'effect_sentence'}, inplace=True)"
   ]
  },
  {
   "cell_type": "code",
   "execution_count": 4,
   "metadata": {},
   "outputs": [
    {
     "data": {
      "text/html": [
       "<div>\n",
       "<style scoped>\n",
       "    .dataframe tbody tr th:only-of-type {\n",
       "        vertical-align: middle;\n",
       "    }\n",
       "\n",
       "    .dataframe tbody tr th {\n",
       "        vertical-align: top;\n",
       "    }\n",
       "\n",
       "    .dataframe thead th {\n",
       "        text-align: right;\n",
       "    }\n",
       "</style>\n",
       "<table border=\"1\" class=\"dataframe\">\n",
       "  <thead>\n",
       "    <tr style=\"text-align: right;\">\n",
       "      <th></th>\n",
       "      <th>action</th>\n",
       "      <th>object</th>\n",
       "      <th>effect_sentence</th>\n",
       "    </tr>\n",
       "  </thead>\n",
       "  <tbody>\n",
       "    <tr>\n",
       "      <th>0</th>\n",
       "      <td>arrange</td>\n",
       "      <td>chairs</td>\n",
       "      <td>objects are moved around in order</td>\n",
       "    </tr>\n",
       "    <tr>\n",
       "      <th>1</th>\n",
       "      <td>arrange</td>\n",
       "      <td>chairs</td>\n",
       "      <td>the objects are put in order</td>\n",
       "    </tr>\n",
       "    <tr>\n",
       "      <th>2</th>\n",
       "      <td>arrange</td>\n",
       "      <td>chairs</td>\n",
       "      <td>the objects are st in a specific order</td>\n",
       "    </tr>\n",
       "    <tr>\n",
       "      <th>3</th>\n",
       "      <td>arrange</td>\n",
       "      <td>chairs</td>\n",
       "      <td>objects are arranged in a specific fashion all...</td>\n",
       "    </tr>\n",
       "    <tr>\n",
       "      <th>4</th>\n",
       "      <td>arrange</td>\n",
       "      <td>chairs</td>\n",
       "      <td>the objects are now in a row</td>\n",
       "    </tr>\n",
       "  </tbody>\n",
       "</table>\n",
       "</div>"
      ],
      "text/plain": [
       "    action  object                                    effect_sentence\n",
       "0  arrange  chairs                  objects are moved around in order\n",
       "1  arrange  chairs                       the objects are put in order\n",
       "2  arrange  chairs             the objects are st in a specific order\n",
       "3  arrange  chairs  objects are arranged in a specific fashion all...\n",
       "4  arrange  chairs                       the objects are now in a row"
      ]
     },
     "execution_count": 4,
     "metadata": {},
     "output_type": "execute_result"
    }
   ],
   "source": [
    "train_df.head()"
   ]
  },
  {
   "cell_type": "code",
   "execution_count": 5,
   "metadata": {},
   "outputs": [
    {
     "data": {
      "text/html": [
       "<div>\n",
       "<style scoped>\n",
       "    .dataframe tbody tr th:only-of-type {\n",
       "        vertical-align: middle;\n",
       "    }\n",
       "\n",
       "    .dataframe tbody tr th {\n",
       "        vertical-align: top;\n",
       "    }\n",
       "\n",
       "    .dataframe thead th {\n",
       "        text-align: right;\n",
       "    }\n",
       "</style>\n",
       "<table border=\"1\" class=\"dataframe\">\n",
       "  <thead>\n",
       "    <tr style=\"text-align: right;\">\n",
       "      <th></th>\n",
       "      <th>object</th>\n",
       "      <th>action</th>\n",
       "      <th>effect_sentence_1</th>\n",
       "      <th>effect_sentence_2</th>\n",
       "      <th>effect_sentence_3</th>\n",
       "      <th>effect_sentence_4</th>\n",
       "      <th>label</th>\n",
       "    </tr>\n",
       "  </thead>\n",
       "  <tbody>\n",
       "    <tr>\n",
       "      <th>0</th>\n",
       "      <td>window</td>\n",
       "      <td>open</td>\n",
       "      <td>the object was left ajar</td>\n",
       "      <td>the object is made so it cannot be opened</td>\n",
       "      <td>outside brown layer of object is taken off lea...</td>\n",
       "      <td>the object is open and air is coming in</td>\n",
       "      <td>3</td>\n",
       "    </tr>\n",
       "    <tr>\n",
       "      <th>1</th>\n",
       "      <td>bottle</td>\n",
       "      <td>squeeze</td>\n",
       "      <td>a object is dropped into a dirty bucket</td>\n",
       "      <td>the object is now out of shape</td>\n",
       "      <td>a object is dropped into a dirty bucket</td>\n",
       "      <td>the doctor writes the word poison on a object ...</td>\n",
       "      <td>1</td>\n",
       "    </tr>\n",
       "    <tr>\n",
       "      <th>2</th>\n",
       "      <td>shirt</td>\n",
       "      <td>stain</td>\n",
       "      <td>the object is cut in two</td>\n",
       "      <td>the object has a mark on it</td>\n",
       "      <td>the object is hanging in the closet</td>\n",
       "      <td>the object is cut in two</td>\n",
       "      <td>1</td>\n",
       "    </tr>\n",
       "    <tr>\n",
       "      <th>3</th>\n",
       "      <td>knee</td>\n",
       "      <td>skin</td>\n",
       "      <td>the objects will be in a pile</td>\n",
       "      <td>the object will be scraped and the skin will b...</td>\n",
       "      <td>the objects will be in a pile</td>\n",
       "      <td>the objects will be in a pile</td>\n",
       "      <td>1</td>\n",
       "    </tr>\n",
       "    <tr>\n",
       "      <th>4</th>\n",
       "      <td>football</td>\n",
       "      <td>kick</td>\n",
       "      <td>the ball is being struck by a foot</td>\n",
       "      <td>the object is divided into pieces</td>\n",
       "      <td>the object is divided into pieces</td>\n",
       "      <td>the object is flying through the air</td>\n",
       "      <td>0</td>\n",
       "    </tr>\n",
       "  </tbody>\n",
       "</table>\n",
       "</div>"
      ],
      "text/plain": [
       "     object   action                        effect_sentence_1  \\\n",
       "0    window     open                 the object was left ajar   \n",
       "1    bottle  squeeze  a object is dropped into a dirty bucket   \n",
       "2     shirt    stain                 the object is cut in two   \n",
       "3      knee     skin            the objects will be in a pile   \n",
       "4  football     kick       the ball is being struck by a foot   \n",
       "\n",
       "                                   effect_sentence_2  \\\n",
       "0          the object is made so it cannot be opened   \n",
       "1                     the object is now out of shape   \n",
       "2                        the object has a mark on it   \n",
       "3  the object will be scraped and the skin will b...   \n",
       "4                  the object is divided into pieces   \n",
       "\n",
       "                                   effect_sentence_3  \\\n",
       "0  outside brown layer of object is taken off lea...   \n",
       "1            a object is dropped into a dirty bucket   \n",
       "2                the object is hanging in the closet   \n",
       "3                      the objects will be in a pile   \n",
       "4                  the object is divided into pieces   \n",
       "\n",
       "                                   effect_sentence_4  label  \n",
       "0            the object is open and air is coming in      3  \n",
       "1  the doctor writes the word poison on a object ...      1  \n",
       "2                           the object is cut in two      1  \n",
       "3                      the objects will be in a pile      1  \n",
       "4               the object is flying through the air      0  "
      ]
     },
     "execution_count": 5,
     "metadata": {},
     "output_type": "execute_result"
    }
   ],
   "source": [
    "val_df.head()"
   ]
  },
  {
   "cell_type": "code",
   "execution_count": 11,
   "metadata": {},
   "outputs": [
    {
     "name": "stderr",
     "output_type": "stream",
     "text": [
      "840it [00:16, 52.05it/s]\n",
      "150it [00:07, 21.07it/s]\n",
      "255it [00:11, 21.19it/s]"
     ]
    }
   ],
   "source": [
    "train_emb_df = pd.DataFrame(columns=['action', 'obj_emb', 'effect_emb'])\n",
    "for i, row in tqdm(train_df.iterrows()):\n",
    "    action = row['action']\n",
    "    with torch.no_grad():\n",
    "        obj_emb = model.encode(row['object'])\n",
    "        effect_emb = model.encode(row['effect_sentence'])\n",
    "    train_emb_df.loc[i] = [action, obj_emb, effect_emb]\n",
    "    \n",
    "val_emb_df = pd.DataFrame(columns=['action', 'obj_emb', 'effect_emb_1', 'effect_emb_2', 'effect_emb_3', 'effect_emb_4', 'label'])\n",
    "for i, row in tqdm(val_df.iterrows()):\n",
    "    action = row['action']\n",
    "    label = row['label']\n",
    "    with torch.no_grad():\n",
    "        obj_emb = model.encode(row['object'])\n",
    "        effect_emb_1 = model.encode(row['effect_sentence_1'])\n",
    "        effect_emb_2 = model.encode(row['effect_sentence_2'])\n",
    "        effect_emb_3 = model.encode(row['effect_sentence_3'])\n",
    "        effect_emb_4 = model.encode(row['effect_sentence_4'])\n",
    "    val_emb_df.loc[i] = [action, obj_emb, effect_emb_1, effect_emb_2, effect_emb_3, effect_emb_4, label]\n",
    "\n",
    "test_emb_df = pd.DataFrame(columns=['action', 'obj_emb', 'effect_emb_1', 'effect_emb_2', 'effect_emb_3', 'effect_emb_4', 'label'])\n",
    "for i, row in tqdm(test_df.iterrows()):\n",
    "    action = row['action']\n",
    "    label = row['label']\n",
    "    with torch.no_grad():\n",
    "        obj_emb = model.encode(row['object'])\n",
    "        effect_emb_1 = model.encode(row['effect_sentence_1'])\n",
    "        effect_emb_2 = model.encode(row['effect_sentence_2'])\n",
    "        effect_emb_3 = model.encode(row['effect_sentence_3'])\n",
    "        effect_emb_4 = model.encode(row['effect_sentence_4'])\n",
    "    test_emb_df.loc[i] = [action, obj_emb, effect_emb_1, effect_emb_2, effect_emb_3, effect_emb_4, label]"
   ]
  },
  {
   "cell_type": "code",
   "execution_count": null,
   "metadata": {},
   "outputs": [],
   "source": [
    "train_emb_df.to_pickle('data/train_emb.pkl')\n",
    "test_emb_df.to_pickle('data/multi_choice/test_emb.pkl')\n",
    "val_emb_df.to_pickle('data/multi_choice/val_emb.pkl')"
   ]
  }
 ],
 "metadata": {
  "kernelspec": {
   "display_name": "Python 3.9.13 64-bit",
   "language": "python",
   "name": "python3"
  },
  "language_info": {
   "codemirror_mode": {
    "name": "ipython",
    "version": 3
   },
   "file_extension": ".py",
   "mimetype": "text/x-python",
   "name": "python",
   "nbconvert_exporter": "python",
   "pygments_lexer": "ipython3",
   "version": "3.9.13"
  },
  "orig_nbformat": 4,
  "vscode": {
   "interpreter": {
    "hash": "8edd196f3515ad5d7b2553f497a1bddcbdab35909aed294504b2691bca8a1a1d"
   }
  }
 },
 "nbformat": 4,
 "nbformat_minor": 2
}
