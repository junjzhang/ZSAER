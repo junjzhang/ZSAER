{
 "cells": [
  {
   "cell_type": "code",
   "execution_count": 1,
   "metadata": {},
   "outputs": [
    {
     "name": "stderr",
     "output_type": "stream",
     "text": [
      "Found cached dataset action-effect (/home/junjayz/.cache/huggingface/datasets/sled-umich___action-effect/default/1.0.0/c2d728abba7d24ff02f369c6d8bf19d67cb3c4b1159604a10826b810752a8083)\n"
     ]
    },
    {
     "data": {
      "application/vnd.jupyter.widget-view+json": {
       "model_id": "f30b380b21a9441f9ca73b379d4f4143",
       "version_major": 2,
       "version_minor": 0
      },
      "text/plain": [
       "  0%|          | 0/1 [00:00<?, ?it/s]"
      ]
     },
     "metadata": {},
     "output_type": "display_data"
    }
   ],
   "source": [
    "from datasets import load_dataset\n",
    "\n",
    "dataset = load_dataset(\"sled-umich/Action-Effect\")"
   ]
  },
  {
   "cell_type": "markdown",
   "metadata": {},
   "source": [
    "## Get useful features"
   ]
  }
 ],
 "metadata": {
  "kernelspec": {
   "display_name": "Python (eecs595)",
   "language": "python",
   "name": "eecs595"
  },
  "language_info": {
   "codemirror_mode": {
    "name": "ipython",
    "version": 3
   },
   "file_extension": ".py",
   "mimetype": "text/x-python",
   "name": "python",
   "nbconvert_exporter": "python",
   "pygments_lexer": "ipython3",
   "version": "3.9.13"
  },
  "orig_nbformat": 4,
  "vscode": {
   "interpreter": {
    "hash": "8edd196f3515ad5d7b2553f497a1bddcbdab35909aed294504b2691bca8a1a1d"
   }
  }
 },
 "nbformat": 4,
 "nbformat_minor": 2
}
